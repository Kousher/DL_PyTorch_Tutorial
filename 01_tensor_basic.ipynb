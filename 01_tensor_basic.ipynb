{
 "cells": [
  {
   "cell_type": "code",
   "execution_count": 2,
   "id": "f88a6306",
   "metadata": {
    "ExecuteTime": {
     "end_time": "2022-09-09T15:59:28.686888Z",
     "start_time": "2022-09-09T15:59:26.543909Z"
    }
   },
   "outputs": [],
   "source": [
    "import torch"
   ]
  },
  {
   "cell_type": "code",
   "execution_count": 3,
   "id": "4581efb0",
   "metadata": {
    "ExecuteTime": {
     "end_time": "2022-09-09T15:59:28.703528Z",
     "start_time": "2022-09-09T15:59:28.691932Z"
    }
   },
   "outputs": [
    {
     "name": "stdout",
     "output_type": "stream",
     "text": [
      "1.12.1+cpu\n"
     ]
    }
   ],
   "source": [
    "print(torch.__version__)"
   ]
  },
  {
   "cell_type": "code",
   "execution_count": 4,
   "id": "52130fc3",
   "metadata": {
    "ExecuteTime": {
     "end_time": "2022-09-09T15:59:28.732910Z",
     "start_time": "2022-09-09T15:59:28.707646Z"
    }
   },
   "outputs": [
    {
     "data": {
      "text/plain": [
       "False"
      ]
     },
     "execution_count": 4,
     "metadata": {},
     "output_type": "execute_result"
    }
   ],
   "source": [
    "torch.cuda.is_available()"
   ]
  },
  {
   "cell_type": "markdown",
   "id": "89b413d0",
   "metadata": {},
   "source": [
    "# INPLACE in torch"
   ]
  },
  {
   "cell_type": "markdown",
   "id": "3820c048",
   "metadata": {},
   "source": [
    "Now we will see how inplace is working with pytorch. In torch every function including _ sign is called inplace. That means which method includes _ that will automatically inplace change the data."
   ]
  },
  {
   "cell_type": "code",
   "execution_count": 5,
   "id": "a051c1fb",
   "metadata": {
    "ExecuteTime": {
     "end_time": "2022-09-09T15:59:28.810658Z",
     "start_time": "2022-09-09T15:59:28.738450Z"
    }
   },
   "outputs": [
    {
     "name": "stdout",
     "output_type": "stream",
     "text": [
      "tensor([[0.0209, 0.4600],\n",
      "        [0.6582, 0.9792]])\n",
      "tensor([[0.6798, 0.7439],\n",
      "        [0.2968, 0.0266]])\n",
      "tensor([[0.6798, 0.7439],\n",
      "        [0.2968, 0.0266]])\n"
     ]
    }
   ],
   "source": [
    "x = torch.rand(2, 2)\n",
    "y = torch.rand(2, 2)\n",
    "print(x)\n",
    "print(y)\n",
    "y.add(x)\n",
    "print(y)\n",
    "# Nothing is change is y though we use add function"
   ]
  },
  {
   "cell_type": "code",
   "execution_count": 6,
   "id": "a485bd25",
   "metadata": {
    "ExecuteTime": {
     "end_time": "2022-09-09T15:59:28.842536Z",
     "start_time": "2022-09-09T15:59:28.814547Z"
    }
   },
   "outputs": [
    {
     "name": "stdout",
     "output_type": "stream",
     "text": [
      "tensor([[0.1761, 0.1462],\n",
      "        [0.7231, 0.7963]])\n",
      "tensor([[0.0942, 0.2115],\n",
      "        [0.7488, 0.7456]])\n",
      "tensor([[0.2703, 0.3577],\n",
      "        [1.4719, 1.5420]])\n"
     ]
    }
   ],
   "source": [
    "x = torch.rand(2, 2)\n",
    "y = torch.rand(2, 2)\n",
    "print(x)\n",
    "print(y)\n",
    "y.add_(x)\n",
    "print(y)\n",
    "# Now the y value has been chnaged because of the use of _ in add function"
   ]
  },
  {
   "cell_type": "code",
   "execution_count": 29,
   "id": "79a6921c",
   "metadata": {
    "ExecuteTime": {
     "end_time": "2022-09-09T16:10:35.314105Z",
     "start_time": "2022-09-09T16:10:35.299124Z"
    }
   },
   "outputs": [],
   "source": [
    "x = torch.rand(20, 4)"
   ]
  },
  {
   "cell_type": "code",
   "execution_count": 24,
   "id": "0203c4ff",
   "metadata": {
    "ExecuteTime": {
     "end_time": "2022-09-09T16:07:52.302897Z",
     "start_time": "2022-09-09T16:07:52.286954Z"
    }
   },
   "outputs": [
    {
     "data": {
      "text/plain": [
       "tensor([[0.2508, 0.7177, 0.4729, 0.9998, 0.2351, 0.5311, 0.4892, 0.9369, 0.1601,\n",
       "         0.0302],\n",
       "        [0.6953, 0.1933, 0.4774, 0.5180, 0.8383, 0.2343, 0.0473, 0.3708, 0.3686,\n",
       "         0.6448],\n",
       "        [0.5051, 0.7330, 0.3987, 0.2080, 0.7144, 0.8180, 0.5949, 0.3977, 0.0297,\n",
       "         0.0683],\n",
       "        [0.6894, 0.9000, 0.3311, 0.7288, 0.8335, 0.4464, 0.0160, 0.2104, 0.3381,\n",
       "         0.7808],\n",
       "        [0.2540, 0.4424, 0.4848, 0.7006, 0.7503, 0.8523, 0.2216, 0.7004, 0.6249,\n",
       "         0.9133],\n",
       "        [0.9940, 0.5734, 0.5067, 0.6739, 0.7280, 0.4338, 0.6610, 0.3848, 0.3742,\n",
       "         0.5540],\n",
       "        [0.1606, 0.7045, 0.5594, 0.1416, 0.8969, 0.2236, 0.4677, 0.5568, 0.3781,\n",
       "         0.2348],\n",
       "        [0.5890, 0.6323, 0.1993, 0.0230, 0.5876, 0.5704, 0.5263, 0.7799, 0.2215,\n",
       "         0.9863]])"
      ]
     },
     "execution_count": 24,
     "metadata": {},
     "output_type": "execute_result"
    }
   ],
   "source": [
    "# by view method we can reshape the tensor\n",
    "y = x.view(8,10)\n",
    "y"
   ]
  },
  {
   "cell_type": "code",
   "execution_count": 28,
   "id": "65c72027",
   "metadata": {
    "ExecuteTime": {
     "end_time": "2022-09-09T16:10:27.665867Z",
     "start_time": "2022-09-09T16:10:27.648976Z"
    }
   },
   "outputs": [
    {
     "name": "stdout",
     "output_type": "stream",
     "text": [
      "torch.Size([40, 2])\n"
     ]
    }
   ],
   "source": [
    "# by view method we can reshape the tensor\n",
    "# In the view method if we specify the first value to -1 it will\n",
    "# automatically correctly determine the size and reshape the tensor \n",
    "y = x.view(-1,2)\n",
    "print(y.size())"
   ]
  },
  {
   "cell_type": "code",
   "execution_count": 26,
   "id": "5c49b992",
   "metadata": {
    "ExecuteTime": {
     "end_time": "2022-09-09T16:10:10.220540Z",
     "start_time": "2022-09-09T16:10:10.205559Z"
    }
   },
   "outputs": [
    {
     "data": {
      "text/plain": [
       "torch.Size([40, 2])"
      ]
     },
     "execution_count": 26,
     "metadata": {},
     "output_type": "execute_result"
    }
   ],
   "source": [
    "y.size()"
   ]
  }
 ],
 "metadata": {
  "kernelspec": {
   "display_name": "Python 3 (ipykernel)",
   "language": "python",
   "name": "python3"
  },
  "language_info": {
   "codemirror_mode": {
    "name": "ipython",
    "version": 3
   },
   "file_extension": ".py",
   "mimetype": "text/x-python",
   "name": "python",
   "nbconvert_exporter": "python",
   "pygments_lexer": "ipython3",
   "version": "3.9.12"
  },
  "varInspector": {
   "cols": {
    "lenName": 16,
    "lenType": 16,
    "lenVar": 40
   },
   "kernels_config": {
    "python": {
     "delete_cmd_postfix": "",
     "delete_cmd_prefix": "del ",
     "library": "var_list.py",
     "varRefreshCmd": "print(var_dic_list())"
    },
    "r": {
     "delete_cmd_postfix": ") ",
     "delete_cmd_prefix": "rm(",
     "library": "var_list.r",
     "varRefreshCmd": "cat(var_dic_list()) "
    }
   },
   "position": {
    "height": "144.854px",
    "left": "542.667px",
    "right": "20px",
    "top": "121px",
    "width": "350px"
   },
   "types_to_exclude": [
    "module",
    "function",
    "builtin_function_or_method",
    "instance",
    "_Feature"
   ],
   "window_display": false
  }
 },
 "nbformat": 4,
 "nbformat_minor": 5
}
