{
 "cells": [
  {
   "cell_type": "code",
   "execution_count": 22,
   "id": "f88a6306",
   "metadata": {
    "ExecuteTime": {
     "end_time": "2022-09-22T06:17:56.112222Z",
     "start_time": "2022-09-22T06:17:56.097034Z"
    }
   },
   "outputs": [],
   "source": [
    "import torch"
   ]
  },
  {
   "cell_type": "code",
   "execution_count": 23,
   "id": "4581efb0",
   "metadata": {
    "ExecuteTime": {
     "end_time": "2022-09-22T06:17:56.127793Z",
     "start_time": "2022-09-22T06:17:56.113680Z"
    }
   },
   "outputs": [
    {
     "name": "stdout",
     "output_type": "stream",
     "text": [
      "1.12.1+cpu\n"
     ]
    }
   ],
   "source": [
    "print(torch.__version__)"
   ]
  },
  {
   "cell_type": "code",
   "execution_count": 24,
   "id": "52130fc3",
   "metadata": {
    "ExecuteTime": {
     "end_time": "2022-09-22T06:17:56.143190Z",
     "start_time": "2022-09-22T06:17:56.129550Z"
    }
   },
   "outputs": [
    {
     "data": {
      "text/plain": [
       "False"
      ]
     },
     "execution_count": 24,
     "metadata": {},
     "output_type": "execute_result"
    }
   ],
   "source": [
    "torch.cuda.is_available()"
   ]
  },
  {
   "cell_type": "code",
   "execution_count": 25,
   "id": "ec19f55f",
   "metadata": {
    "ExecuteTime": {
     "end_time": "2022-09-22T06:17:56.158972Z",
     "start_time": "2022-09-22T06:17:56.145444Z"
    }
   },
   "outputs": [
    {
     "data": {
      "text/plain": [
       "tensor([2, 2])"
      ]
     },
     "execution_count": 25,
     "metadata": {},
     "output_type": "execute_result"
    }
   ],
   "source": [
    "vector = torch.tensor([2,2])\n",
    "vector"
   ]
  },
  {
   "cell_type": "code",
   "execution_count": 26,
   "id": "a957dac8",
   "metadata": {
    "ExecuteTime": {
     "end_time": "2022-09-22T06:17:56.173869Z",
     "start_time": "2022-09-22T06:17:56.160871Z"
    }
   },
   "outputs": [
    {
     "name": "stdout",
     "output_type": "stream",
     "text": [
      "tensor([1, 2, 3, 4, 5, 6, 7, 8])\n"
     ]
    }
   ],
   "source": [
    "# converting a list to tensor \n",
    "li = [1,2,3,4,5,6,7,8]\n",
    "li_matrix = torch.tensor(li)\n",
    "print(li_matrix)"
   ]
  },
  {
   "cell_type": "markdown",
   "id": "95f5943e",
   "metadata": {},
   "source": [
    "# Access tensor value"
   ]
  },
  {
   "cell_type": "code",
   "execution_count": 27,
   "id": "46d8e3cd",
   "metadata": {
    "ExecuteTime": {
     "end_time": "2022-09-22T06:17:56.189432Z",
     "start_time": "2022-09-22T06:17:56.177072Z"
    }
   },
   "outputs": [
    {
     "name": "stdout",
     "output_type": "stream",
     "text": [
      "tensor([0., 0., 0.])\n",
      "tensor([0, 0, 0], dtype=torch.int32)\n",
      "tensor(0.)\n",
      "0.0\n"
     ]
    }
   ],
   "source": [
    "all_zero = torch.zeros(3)\n",
    "print(all_zero)\n",
    "print(all_zero.type(torch.int32))\n",
    "print(all_zero[1])\n",
    "print(all_zero[1].numpy())"
   ]
  },
  {
   "cell_type": "markdown",
   "id": "4a7e0d2e",
   "metadata": {},
   "source": [
    "### Getting information from tensors (tensor attributes)"
   ]
  },
  {
   "cell_type": "markdown",
   "id": "9945cc86",
   "metadata": {},
   "source": [
    "Once you've created tensors (or someone else or a PyTorch module has created them for you), you might want to get some information from them.\n",
    "\n",
    "We've seen these before but three of the most common attributes you'll want to find out about tensors are:\n",
    "\n",
    "    shape - what shape is the tensor? (some operations require specific shape rules),can use tensor.shape\n",
    "    dtype - what datatype are the elements within the tensor stored in?,can use tensor.dtype\n",
    "    device - what device is the tensor stored on? (usually GPU or CPU),can use tensor.device\n",
    "Let's create a random tensor and find out details about it."
   ]
  },
  {
   "cell_type": "code",
   "execution_count": 28,
   "id": "17233e53",
   "metadata": {
    "ExecuteTime": {
     "end_time": "2022-09-22T06:17:56.204757Z",
     "start_time": "2022-09-22T06:17:56.194229Z"
    },
    "scrolled": true
   },
   "outputs": [
    {
     "name": "stdout",
     "output_type": "stream",
     "text": [
      "tensor([[0.0446, 0.2809, 0.6971, 0.0784],\n",
      "        [0.3314, 0.9111, 0.8628, 0.9611],\n",
      "        [0.3417, 0.9500, 0.7479, 0.4085]])\n",
      "Shape of tensor: torch.Size([3, 4])\n",
      "Datatype of tensor: torch.float32\n",
      "Device tensor is stored on: cpu\n"
     ]
    }
   ],
   "source": [
    "# Create a tensor\n",
    "some_tensor = torch.rand(3, 4)\n",
    "\n",
    "# Find out details about it\n",
    "print(some_tensor)\n",
    "print(f\"Shape of tensor: {some_tensor.shape}\")\n",
    "print(f\"Datatype of tensor: {some_tensor.dtype}\")\n",
    "print(f\"Device tensor is stored on: {some_tensor.device}\") # will default to CPU"
   ]
  },
  {
   "cell_type": "markdown",
   "id": "b3859283",
   "metadata": {},
   "source": [
    "### Getting information from tensors (tensor methods)"
   ]
  },
  {
   "cell_type": "markdown",
   "id": "8be42ee1",
   "metadata": {
    "ExecuteTime": {
     "end_time": "2022-09-22T06:00:05.437402Z",
     "start_time": "2022-09-22T06:00:05.425931Z"
    }
   },
   "source": [
    "Once you've created tensors (or someone else or a PyTorch module has created them for you), you might want to get some information from them.\n",
    "\n",
    "We've seen these before but three of the most common attributes you'll want to find out about tensors are:\n",
    "\n",
    "    shape - what shape is the tensor? (some operations require specific shape rules),can use tensor.size()\n",
    "    dtype - what datatype are the elements within the tensor stored in?,can use tensor.type()\n",
    "Let's create a random tensor and find out details about it."
   ]
  },
  {
   "cell_type": "code",
   "execution_count": 29,
   "id": "7eaefd00",
   "metadata": {
    "ExecuteTime": {
     "end_time": "2022-09-22T06:17:56.220368Z",
     "start_time": "2022-09-22T06:17:56.208034Z"
    }
   },
   "outputs": [
    {
     "name": "stdout",
     "output_type": "stream",
     "text": [
      "tensor([[0.0715, 0.1328, 0.1058, 0.6253],\n",
      "        [0.1112, 0.7226, 0.0067, 0.3252],\n",
      "        [0.8802, 0.1213, 0.5218, 0.1853]])\n",
      "Shape of tensor: torch.Size([3, 4])\n",
      "Datatype of tensor: torch.FloatTensor\n"
     ]
    }
   ],
   "source": [
    "# Create a tensor\n",
    "some_tensor = torch.rand(3, 4)\n",
    "\n",
    "# Find out details about it\n",
    "print(some_tensor)\n",
    "print(f\"Shape of tensor: {some_tensor.size()}\")\n",
    "print(f\"Datatype of tensor: {some_tensor.type()}\")"
   ]
  },
  {
   "cell_type": "markdown",
   "id": "96a5129c",
   "metadata": {},
   "source": [
    "# Creating a range of tensors and tensors like"
   ]
  },
  {
   "cell_type": "code",
   "execution_count": 30,
   "id": "8bd6574f",
   "metadata": {
    "ExecuteTime": {
     "end_time": "2022-09-22T06:17:56.235470Z",
     "start_time": "2022-09-22T06:17:56.225118Z"
    }
   },
   "outputs": [
    {
     "data": {
      "text/plain": [
       "tensor([ 1,  6, 11, 16, 21, 26, 31, 36, 41, 46])"
      ]
     },
     "execution_count": 30,
     "metadata": {},
     "output_type": "execute_result"
    }
   ],
   "source": [
    "one_to_ten = torch.arange(start=1,end=50,step=5)\n",
    "one_to_ten"
   ]
  },
  {
   "cell_type": "code",
   "execution_count": 31,
   "id": "35fdd7b2",
   "metadata": {
    "ExecuteTime": {
     "end_time": "2022-09-22T06:17:56.250545Z",
     "start_time": "2022-09-22T06:17:56.240910Z"
    }
   },
   "outputs": [
    {
     "data": {
      "text/plain": [
       "tensor([0, 0, 0, 0, 0, 0, 0, 0, 0, 0])"
      ]
     },
     "execution_count": 31,
     "metadata": {},
     "output_type": "execute_result"
    }
   ],
   "source": [
    "####### torch.zeros_like() is use to convert a tensor to zero value\n",
    "final_zero = torch.zeros_like(one_to_ten)\n",
    "final_zero"
   ]
  },
  {
   "cell_type": "markdown",
   "id": "89b413d0",
   "metadata": {},
   "source": [
    "# INPLACE in torch"
   ]
  },
  {
   "cell_type": "markdown",
   "id": "3820c048",
   "metadata": {},
   "source": [
    "Now we will see how inplace is working with pytorch. In torch every function including _ sign is called inplace. That means which method includes _ that will automatically inplace change the data."
   ]
  },
  {
   "cell_type": "code",
   "execution_count": 32,
   "id": "a051c1fb",
   "metadata": {
    "ExecuteTime": {
     "end_time": "2022-09-22T06:17:56.282211Z",
     "start_time": "2022-09-22T06:17:56.255085Z"
    }
   },
   "outputs": [
    {
     "name": "stdout",
     "output_type": "stream",
     "text": [
      "tensor([[0.1417, 0.6439],\n",
      "        [0.9026, 0.9227]])\n",
      "tensor([[0.4395, 0.8537],\n",
      "        [0.9017, 0.4099]])\n",
      "tensor([[0.4395, 0.8537],\n",
      "        [0.9017, 0.4099]])\n"
     ]
    }
   ],
   "source": [
    "x = torch.rand(2, 2)\n",
    "y = torch.rand(2, 2)\n",
    "print(x)\n",
    "print(y)\n",
    "y.add(x)\n",
    "print(y)\n",
    "# Nothing is change is y though we use add function"
   ]
  },
  {
   "cell_type": "code",
   "execution_count": 33,
   "id": "a485bd25",
   "metadata": {
    "ExecuteTime": {
     "end_time": "2022-09-22T06:17:56.297674Z",
     "start_time": "2022-09-22T06:17:56.285662Z"
    }
   },
   "outputs": [
    {
     "name": "stdout",
     "output_type": "stream",
     "text": [
      "tensor([[0.9895, 0.4594],\n",
      "        [0.9617, 0.3663]])\n",
      "tensor([[0.2810, 0.3472],\n",
      "        [0.1974, 0.8518]])\n",
      "tensor([[1.2704, 0.8067],\n",
      "        [1.1590, 1.2181]])\n"
     ]
    }
   ],
   "source": [
    "x = torch.rand(2, 2)\n",
    "y = torch.rand(2, 2)\n",
    "print(x)\n",
    "print(y)\n",
    "y.add_(x)\n",
    "print(y)\n",
    "# Now the y value has been chnaged because of the use of _ in add function"
   ]
  },
  {
   "cell_type": "markdown",
   "id": "81839b7d",
   "metadata": {},
   "source": [
    "## Matrix multiplication"
   ]
  },
  {
   "cell_type": "markdown",
   "id": "87c5ba22",
   "metadata": {},
   "source": [
    "One of the most common operations in machine learning and deep learning algorithms (like neural networks) is matrix multiplication.\n",
    "\n",
    "PyTorch implements matrix multiplication functionality in the torch.matmul() method.\n",
    "\n",
    "The main two rules for matrix multiplication to remember are:\n",
    "\n",
    "    The inner dimensions must match:\n",
    "        (3, 2) @ (3, 2) won't work\n",
    "        (2, 3) @ (3, 2) will work\n",
    "        (3, 2) @ (2, 3) will work\n",
    "    The resulting matrix has the shape of the outer dimensions:\n",
    "        (2, 3) @ (3, 2) -> (2, 2)\n",
    "        (3, 2) @ (2, 3) -> (3, 3)"
   ]
  },
  {
   "cell_type": "code",
   "execution_count": 38,
   "id": "a4a96254",
   "metadata": {
    "ExecuteTime": {
     "end_time": "2022-09-22T06:54:04.610287Z",
     "start_time": "2022-09-22T06:54:04.597784Z"
    }
   },
   "outputs": [
    {
     "data": {
      "text/plain": [
       "torch.Size([3])"
      ]
     },
     "execution_count": 38,
     "metadata": {},
     "output_type": "execute_result"
    }
   ],
   "source": [
    "import torch\n",
    "tensor = torch.tensor([1, 2, 3])\n",
    "tensor.shape"
   ]
  },
  {
   "cell_type": "code",
   "execution_count": 39,
   "id": "e2d83d69",
   "metadata": {
    "ExecuteTime": {
     "end_time": "2022-09-22T06:54:23.556128Z",
     "start_time": "2022-09-22T06:54:23.549867Z"
    }
   },
   "outputs": [
    {
     "data": {
      "text/plain": [
       "tensor([1, 4, 9])"
      ]
     },
     "execution_count": 39,
     "metadata": {},
     "output_type": "execute_result"
    }
   ],
   "source": [
    "# Element-wise matrix mutlication\n",
    "tensor * tensor"
   ]
  },
  {
   "cell_type": "code",
   "execution_count": 40,
   "id": "16d92e50",
   "metadata": {
    "ExecuteTime": {
     "end_time": "2022-09-22T06:54:36.151769Z",
     "start_time": "2022-09-22T06:54:36.125638Z"
    }
   },
   "outputs": [
    {
     "data": {
      "text/plain": [
       "tensor(14)"
      ]
     },
     "execution_count": 40,
     "metadata": {},
     "output_type": "execute_result"
    }
   ],
   "source": [
    "# Matrix multiplication\n",
    "torch.matmul(tensor, tensor)"
   ]
  },
  {
   "cell_type": "markdown",
   "id": "166e0496",
   "metadata": {},
   "source": [
    "The in-built torch.matmul() method is faster."
   ]
  },
  {
   "cell_type": "code",
   "execution_count": 41,
   "id": "98aae40d",
   "metadata": {
    "ExecuteTime": {
     "end_time": "2022-09-22T06:55:22.150682Z",
     "start_time": "2022-09-22T06:55:22.126550Z"
    }
   },
   "outputs": [
    {
     "name": "stdout",
     "output_type": "stream",
     "text": [
      "CPU times: total: 0 ns\n",
      "Wall time: 2.51 ms\n"
     ]
    },
    {
     "data": {
      "text/plain": [
       "tensor(14)"
      ]
     },
     "execution_count": 41,
     "metadata": {},
     "output_type": "execute_result"
    }
   ],
   "source": [
    "%%time\n",
    "# Matrix multiplication by hand \n",
    "# (avoid doing operations with for loops at all cost, they are computationally expensive)\n",
    "value = 0\n",
    "for i in range(len(tensor)):\n",
    "  value += tensor[i] * tensor[i]\n",
    "value"
   ]
  },
  {
   "cell_type": "code",
   "execution_count": 42,
   "id": "5005b8c6",
   "metadata": {
    "ExecuteTime": {
     "end_time": "2022-09-22T06:56:04.964259Z",
     "start_time": "2022-09-22T06:56:04.943179Z"
    }
   },
   "outputs": [
    {
     "name": "stdout",
     "output_type": "stream",
     "text": [
      "CPU times: total: 0 ns\n",
      "Wall time: 0 ns\n"
     ]
    },
    {
     "data": {
      "text/plain": [
       "tensor(14)"
      ]
     },
     "execution_count": 42,
     "metadata": {},
     "output_type": "execute_result"
    }
   ],
   "source": [
    "%%time\n",
    "torch.matmul(tensor, tensor)"
   ]
  },
  {
   "cell_type": "markdown",
   "id": "6cee56ac",
   "metadata": {},
   "source": [
    "### One of the most common errors in deep learning (shape errors)\n",
    "Because much of deep learning is multiplying and performing operations on matrices and matrices have a strict rule about what shapes and sizes can be combined, one of the most common errors you'll run into in deep learning is shape mismatches."
   ]
  },
  {
   "cell_type": "code",
   "execution_count": 43,
   "id": "c149f4f5",
   "metadata": {
    "ExecuteTime": {
     "end_time": "2022-09-22T07:11:47.961262Z",
     "start_time": "2022-09-22T07:11:47.918987Z"
    }
   },
   "outputs": [
    {
     "ename": "RuntimeError",
     "evalue": "mat1 and mat2 shapes cannot be multiplied (3x2 and 3x2)",
     "output_type": "error",
     "traceback": [
      "\u001b[1;31m---------------------------------------------------------------------------\u001b[0m",
      "\u001b[1;31mRuntimeError\u001b[0m                              Traceback (most recent call last)",
      "Input \u001b[1;32mIn [43]\u001b[0m, in \u001b[0;36m<cell line: 10>\u001b[1;34m()\u001b[0m\n\u001b[0;32m      2\u001b[0m tensor_A \u001b[38;5;241m=\u001b[39m torch\u001b[38;5;241m.\u001b[39mtensor([[\u001b[38;5;241m1\u001b[39m, \u001b[38;5;241m2\u001b[39m],\n\u001b[0;32m      3\u001b[0m                          [\u001b[38;5;241m3\u001b[39m, \u001b[38;5;241m4\u001b[39m],\n\u001b[0;32m      4\u001b[0m                          [\u001b[38;5;241m5\u001b[39m, \u001b[38;5;241m6\u001b[39m]], dtype\u001b[38;5;241m=\u001b[39mtorch\u001b[38;5;241m.\u001b[39mfloat32)\n\u001b[0;32m      6\u001b[0m tensor_B \u001b[38;5;241m=\u001b[39m torch\u001b[38;5;241m.\u001b[39mtensor([[\u001b[38;5;241m7\u001b[39m, \u001b[38;5;241m10\u001b[39m],\n\u001b[0;32m      7\u001b[0m                          [\u001b[38;5;241m8\u001b[39m, \u001b[38;5;241m11\u001b[39m], \n\u001b[0;32m      8\u001b[0m                          [\u001b[38;5;241m9\u001b[39m, \u001b[38;5;241m12\u001b[39m]], dtype\u001b[38;5;241m=\u001b[39mtorch\u001b[38;5;241m.\u001b[39mfloat32)\n\u001b[1;32m---> 10\u001b[0m \u001b[43mtorch\u001b[49m\u001b[38;5;241;43m.\u001b[39;49m\u001b[43mmatmul\u001b[49m\u001b[43m(\u001b[49m\u001b[43mtensor_A\u001b[49m\u001b[43m,\u001b[49m\u001b[43m \u001b[49m\u001b[43mtensor_B\u001b[49m\u001b[43m)\u001b[49m\n",
      "\u001b[1;31mRuntimeError\u001b[0m: mat1 and mat2 shapes cannot be multiplied (3x2 and 3x2)"
     ]
    }
   ],
   "source": [
    "# Shapes need to be in the right way  \n",
    "tensor_A = torch.tensor([[1, 2],\n",
    "                         [3, 4],\n",
    "                         [5, 6]], dtype=torch.float32)\n",
    "\n",
    "tensor_B = torch.tensor([[7, 10],\n",
    "                         [8, 11], \n",
    "                         [9, 12]], dtype=torch.float32)\n",
    "\n",
    "torch.matmul(tensor_A, tensor_B) # (this will error)"
   ]
  },
  {
   "cell_type": "markdown",
   "id": "f228bf53",
   "metadata": {
    "ExecuteTime": {
     "end_time": "2022-09-22T07:13:07.066241Z",
     "start_time": "2022-09-22T07:13:07.054054Z"
    }
   },
   "source": [
    "We can make matrix multiplication work between tensor_A and tensor_B by making their inner dimensions match.\n",
    "\n",
    "One of the ways to do this is with a transpose (switch the dimensions of a given tensor).\n",
    "\n",
    "You can perform transposes in PyTorch using either:\n",
    "\n",
    "    torch.transpose(input, dim0, dim1) - where input is the desired tensor to transpose and dim0 and dim1 are the dimensions to be swapped.\n",
    "    tensor.T - where tensor is the desired tensor to transpose."
   ]
  },
  {
   "cell_type": "code",
   "execution_count": 45,
   "id": "8b0ff9c4",
   "metadata": {
    "ExecuteTime": {
     "end_time": "2022-09-22T07:13:33.086227Z",
     "start_time": "2022-09-22T07:13:33.078393Z"
    }
   },
   "outputs": [
    {
     "name": "stdout",
     "output_type": "stream",
     "text": [
      "tensor([[1., 2.],\n",
      "        [3., 4.],\n",
      "        [5., 6.]])\n",
      "tensor([[ 7., 10.],\n",
      "        [ 8., 11.],\n",
      "        [ 9., 12.]])\n"
     ]
    }
   ],
   "source": [
    "# View tensor_A and tensor_B\n",
    "print(tensor_A)\n",
    "print(tensor_B)"
   ]
  },
  {
   "cell_type": "code",
   "execution_count": 46,
   "id": "5c2ce19e",
   "metadata": {
    "ExecuteTime": {
     "end_time": "2022-09-22T07:13:42.785008Z",
     "start_time": "2022-09-22T07:13:42.757943Z"
    }
   },
   "outputs": [
    {
     "name": "stdout",
     "output_type": "stream",
     "text": [
      "tensor([[1., 2.],\n",
      "        [3., 4.],\n",
      "        [5., 6.]])\n",
      "tensor([[ 7.,  8.,  9.],\n",
      "        [10., 11., 12.]])\n"
     ]
    }
   ],
   "source": [
    "# View tensor_A and tensor_B.T\n",
    "print(tensor_A)\n",
    "print(tensor_B.T)"
   ]
  },
  {
   "cell_type": "code",
   "execution_count": 47,
   "id": "d9759d9c",
   "metadata": {
    "ExecuteTime": {
     "end_time": "2022-09-22T07:16:21.251138Z",
     "start_time": "2022-09-22T07:16:21.222685Z"
    }
   },
   "outputs": [
    {
     "name": "stdout",
     "output_type": "stream",
     "text": [
      "Original shapes: tensor_A = torch.Size([3, 2]), tensor_B = torch.Size([3, 2])\n",
      "\n",
      "New shapes: tensor_A = torch.Size([3, 2]) (same as above), tensor_B.T = torch.Size([2, 3])\n",
      "\n",
      "Multiplying: torch.Size([3, 2]) * torch.Size([2, 3]) <- inner dimensions match\n",
      "\n",
      "Output:\n",
      "\n",
      "tensor([[ 27.,  30.,  33.],\n",
      "        [ 61.,  68.,  75.],\n",
      "        [ 95., 106., 117.]])\n",
      "\n",
      "Output shape: torch.Size([3, 3])\n"
     ]
    }
   ],
   "source": [
    "# The operation works when tensor_B is transposed\n",
    "print(f\"Original shapes: tensor_A = {tensor_A.shape}, tensor_B = {tensor_B.shape}\\n\")\n",
    "print(f\"New shapes: tensor_A = {tensor_A.shape} (same as above), tensor_B.T = {tensor_B.T.shape}\\n\")\n",
    "print(f\"Multiplying: {tensor_A.shape} * {tensor_B.T.shape} <- inner dimensions match\\n\")\n",
    "print(\"Output:\\n\")\n",
    "output = torch.matmul(tensor_A, tensor_B.T)\n",
    "print(output) \n",
    "print(f\"\\nOutput shape: {output.shape}\")"
   ]
  },
  {
   "cell_type": "markdown",
   "id": "52d4c432",
   "metadata": {},
   "source": [
    "# Reshape"
   ]
  },
  {
   "cell_type": "code",
   "execution_count": 34,
   "id": "79a6921c",
   "metadata": {
    "ExecuteTime": {
     "end_time": "2022-09-22T06:17:56.313167Z",
     "start_time": "2022-09-22T06:17:56.301330Z"
    }
   },
   "outputs": [],
   "source": [
    "x = torch.rand(20, 4)"
   ]
  },
  {
   "cell_type": "code",
   "execution_count": 35,
   "id": "0203c4ff",
   "metadata": {
    "ExecuteTime": {
     "end_time": "2022-09-22T06:17:56.343792Z",
     "start_time": "2022-09-22T06:17:56.317217Z"
    },
    "scrolled": false
   },
   "outputs": [
    {
     "data": {
      "text/plain": [
       "tensor([[0.1904, 0.3770, 0.7847, 0.6678, 0.5433, 0.2040, 0.9204, 0.8815, 0.4165,\n",
       "         0.7954],\n",
       "        [0.0087, 0.8497, 0.8111, 0.9324, 0.2730, 0.2476, 0.1776, 0.6243, 0.2951,\n",
       "         0.0608],\n",
       "        [0.8186, 0.2060, 0.2017, 0.0459, 0.0687, 0.0055, 0.2212, 0.3716, 0.4205,\n",
       "         0.2785],\n",
       "        [0.0421, 0.4335, 0.9212, 0.2393, 0.8943, 0.9645, 0.5945, 0.6593, 0.3437,\n",
       "         0.1250],\n",
       "        [0.6483, 0.5046, 0.5564, 0.0750, 0.9682, 0.7734, 0.0974, 0.8603, 0.9853,\n",
       "         0.9340],\n",
       "        [0.4061, 0.0443, 0.9581, 0.8404, 0.8630, 0.2284, 0.9667, 0.2119, 0.5488,\n",
       "         0.3938],\n",
       "        [0.9891, 0.8372, 0.5219, 0.7277, 0.9733, 0.5599, 0.8539, 0.0455, 0.8744,\n",
       "         0.9464],\n",
       "        [0.7883, 0.0360, 0.2621, 0.5139, 0.1011, 0.7739, 0.0310, 0.2288, 0.5706,\n",
       "         0.8828]])"
      ]
     },
     "execution_count": 35,
     "metadata": {},
     "output_type": "execute_result"
    }
   ],
   "source": [
    "# by view method we can reshape the tensor\n",
    "y = x.view(8,10)\n",
    "y"
   ]
  },
  {
   "cell_type": "code",
   "execution_count": 36,
   "id": "65c72027",
   "metadata": {
    "ExecuteTime": {
     "end_time": "2022-09-22T06:17:56.360369Z",
     "start_time": "2022-09-22T06:17:56.347554Z"
    }
   },
   "outputs": [
    {
     "name": "stdout",
     "output_type": "stream",
     "text": [
      "torch.Size([40, 2])\n"
     ]
    }
   ],
   "source": [
    "# by view method we can reshape the tensor\n",
    "# In the view method if we specify the first value to -1 it will\n",
    "# automatically correctly determine the size and reshape the tensor \n",
    "y = x.view(-1,2)\n",
    "print(y.size())"
   ]
  },
  {
   "cell_type": "code",
   "execution_count": 37,
   "id": "5c49b992",
   "metadata": {
    "ExecuteTime": {
     "end_time": "2022-09-22T06:17:56.374296Z",
     "start_time": "2022-09-22T06:17:56.366317Z"
    }
   },
   "outputs": [
    {
     "data": {
      "text/plain": [
       "torch.Size([40, 2])"
      ]
     },
     "execution_count": 37,
     "metadata": {},
     "output_type": "execute_result"
    }
   ],
   "source": [
    "y.size()"
   ]
  },
  {
   "cell_type": "markdown",
   "id": "c3292dae",
   "metadata": {
    "ExecuteTime": {
     "end_time": "2022-09-22T09:56:07.856520Z",
     "start_time": "2022-09-22T09:56:07.834782Z"
    }
   },
   "source": [
    "###  Finding the min, max, mean, sum, etc (aggregation)"
   ]
  },
  {
   "cell_type": "code",
   "execution_count": 52,
   "id": "0ea8df5e",
   "metadata": {
    "ExecuteTime": {
     "end_time": "2022-09-22T10:27:08.679873Z",
     "start_time": "2022-09-22T10:27:08.665621Z"
    }
   },
   "outputs": [
    {
     "data": {
      "text/plain": [
       "tensor([  0,  10,  20,  30,  40,  50,  60,  70,  80,  90, 100])"
      ]
     },
     "execution_count": 52,
     "metadata": {},
     "output_type": "execute_result"
    }
   ],
   "source": [
    "x = torch.arange(0, 101, 10)\n",
    "x"
   ]
  },
  {
   "cell_type": "code",
   "execution_count": 66,
   "id": "1c3a10ef",
   "metadata": {
    "ExecuteTime": {
     "end_time": "2022-09-22T10:31:42.064217Z",
     "start_time": "2022-09-22T10:31:42.049778Z"
    }
   },
   "outputs": [
    {
     "data": {
      "text/plain": [
       "(tensor(0), tensor(100), tensor(550))"
      ]
     },
     "execution_count": 66,
     "metadata": {},
     "output_type": "execute_result"
    }
   ],
   "source": [
    "x.min(),x.max(),x.sum()"
   ]
  },
  {
   "cell_type": "code",
   "execution_count": 60,
   "id": "53c6e634",
   "metadata": {
    "ExecuteTime": {
     "end_time": "2022-09-22T10:28:36.093794Z",
     "start_time": "2022-09-22T10:28:36.058072Z"
    },
    "scrolled": true
   },
   "outputs": [
    {
     "ename": "RuntimeError",
     "evalue": "mean(): could not infer output dtype. Input dtype must be either a floating point or complex dtype. Got: Long",
     "output_type": "error",
     "traceback": [
      "\u001b[1;31m---------------------------------------------------------------------------\u001b[0m",
      "\u001b[1;31mRuntimeError\u001b[0m                              Traceback (most recent call last)",
      "Input \u001b[1;32mIn [60]\u001b[0m, in \u001b[0;36m<cell line: 1>\u001b[1;34m()\u001b[0m\n\u001b[1;32m----> 1\u001b[0m \u001b[43mx\u001b[49m\u001b[38;5;241;43m.\u001b[39;49m\u001b[43mmean\u001b[49m\u001b[43m(\u001b[49m\u001b[43m)\u001b[49m\n",
      "\u001b[1;31mRuntimeError\u001b[0m: mean(): could not infer output dtype. Input dtype must be either a floating point or complex dtype. Got: Long"
     ]
    }
   ],
   "source": [
    "x.mean()"
   ]
  },
  {
   "cell_type": "markdown",
   "id": "140e77d1",
   "metadata": {
    "ExecuteTime": {
     "end_time": "2022-09-22T10:34:21.575877Z",
     "start_time": "2022-09-22T10:34:21.564729Z"
    }
   },
   "source": [
    "To find the mean value of a tensor it has to be float data type"
   ]
  },
  {
   "cell_type": "markdown",
   "id": "5c49e29b",
   "metadata": {
    "ExecuteTime": {
     "end_time": "2022-09-22T10:33:07.615585Z",
     "start_time": "2022-09-22T10:33:07.602242Z"
    }
   },
   "source": [
    "y = torch.arange(0, 101, 10)\n",
    "print(y)\n",
    "y = y.type(torch.float32)\n",
    "print(y)\n",
    "print(y.mean())"
   ]
  },
  {
   "cell_type": "markdown",
   "id": "a99769dd",
   "metadata": {},
   "source": [
    "#### Finding the positional min and max"
   ]
  },
  {
   "cell_type": "code",
   "execution_count": 70,
   "id": "050536de",
   "metadata": {
    "ExecuteTime": {
     "end_time": "2022-09-22T10:37:25.845556Z",
     "start_time": "2022-09-22T10:37:25.833798Z"
    }
   },
   "outputs": [
    {
     "name": "stdout",
     "output_type": "stream",
     "text": [
      "tensor([ 0, 10, 20, 30, 40, 50, 60, 70, 80, 90])\n"
     ]
    }
   ],
   "source": [
    "x = torch.arange(0,100,10)\n",
    "print(x)"
   ]
  },
  {
   "cell_type": "code",
   "execution_count": 73,
   "id": "5bb4b900",
   "metadata": {
    "ExecuteTime": {
     "end_time": "2022-09-22T10:39:08.933657Z",
     "start_time": "2022-09-22T10:39:08.922667Z"
    }
   },
   "outputs": [
    {
     "data": {
      "text/plain": [
       "(tensor(0), tensor(9))"
      ]
     },
     "execution_count": 73,
     "metadata": {},
     "output_type": "execute_result"
    }
   ],
   "source": [
    "## Find the position or index in tensor that has minimum and maximum value \n",
    "x.argmin(),x.argmax()"
   ]
  }
 ],
 "metadata": {
  "kernelspec": {
   "display_name": "Python 3 (ipykernel)",
   "language": "python",
   "name": "python3"
  },
  "language_info": {
   "codemirror_mode": {
    "name": "ipython",
    "version": 3
   },
   "file_extension": ".py",
   "mimetype": "text/x-python",
   "name": "python",
   "nbconvert_exporter": "python",
   "pygments_lexer": "ipython3",
   "version": "3.9.12"
  },
  "varInspector": {
   "cols": {
    "lenName": 16,
    "lenType": 16,
    "lenVar": 40
   },
   "kernels_config": {
    "python": {
     "delete_cmd_postfix": "",
     "delete_cmd_prefix": "del ",
     "library": "var_list.py",
     "varRefreshCmd": "print(var_dic_list())"
    },
    "r": {
     "delete_cmd_postfix": ") ",
     "delete_cmd_prefix": "rm(",
     "library": "var_list.r",
     "varRefreshCmd": "cat(var_dic_list()) "
    }
   },
   "position": {
    "height": "144.854px",
    "left": "542.667px",
    "right": "20px",
    "top": "121px",
    "width": "350px"
   },
   "types_to_exclude": [
    "module",
    "function",
    "builtin_function_or_method",
    "instance",
    "_Feature"
   ],
   "window_display": false
  }
 },
 "nbformat": 4,
 "nbformat_minor": 5
}
